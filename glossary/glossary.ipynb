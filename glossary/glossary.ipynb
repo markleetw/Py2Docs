{
 "cells": [
  {
   "cell_type": "code",
   "execution_count": null,
   "metadata": {
    "collapsed": false
   },
   "outputs": [],
   "source": [
    "''' Abstract base class\n",
    "\n",
    "Register a class as the virtual subclass of another.\n",
    "\n",
    "'''\n",
    "\n",
    "from abc import ABCMeta\n",
    "\n",
    "class ABCObj(object):\n",
    "    __metaclass__ = ABCMeta\n",
    "    \n",
    "ABCObj.register(list)  # register `list` as a “virtual subclass” of `ABCObj`\n",
    "\n",
    "print isinstance([], ABCObj)  # now `list` is a subclass of `ABCObj`"
   ]
  },
  {
   "cell_type": "code",
   "execution_count": null,
   "metadata": {
    "collapsed": true
   },
   "outputs": [],
   "source": [
    "''' Parameter \n",
    "\n",
    "The variables pass from caller is named `arguments` and the `parameters` is received by function.\n",
    "\n",
    "'''\n",
    "\n",
    "def test_param(*args, **kwargs):  # `args` and `kwargs` are parameters here\n",
    "    print args\n",
    "    print kwargs\n",
    "       \n",
    "test_param(*[1, 2, 3], **{'key1': 'val1', 'key2': 'val2'})  # these values called `arguments`"
   ]
  },
  {
   "cell_type": "code",
   "execution_count": null,
   "metadata": {
    "collapsed": false
   },
   "outputs": [],
   "source": [
    "''' Attribute '''\n",
    "\n",
    "class AttrObj(object):\n",
    "    attr = 'something'\n",
    "    \n",
    "print AttrObj().attr"
   ]
  },
  {
   "cell_type": "code",
   "execution_count": null,
   "metadata": {
    "collapsed": false
   },
   "outputs": [],
   "source": [
    "''' Class '''\n",
    "\n",
    "class ClassicObj():  # phase out in Python 3\n",
    "    pass\n",
    "\n",
    "class NewStyleObj(object):\n",
    "    pass\n",
    "\n",
    "print dir(ClassicObj())\n",
    "print dir(NewStyleObj())"
   ]
  },
  {
   "cell_type": "code",
   "execution_count": null,
   "metadata": {
    "collapsed": false
   },
   "outputs": [],
   "source": [
    "''' Coercion\n",
    "\n",
    "Convert 2 number args to the same type.\n",
    "\n",
    "'''\n",
    "\n",
    "coerce(3, 1.5)  # (3.0, 1.5)\n",
    "# coerce('hello', 3)  # TypeError: number coercion failed\n",
    "\n",
    "\n",
    "# If you want the object can be coercioned, implement `__coerce__`. (NOT RECOMMEND!)\n",
    "class bad:\n",
    "    ''' Dont do this, even if coerce was a good idea this simply\n",
    "        makes itself int ignoring type of other ! '''\n",
    "    \n",
    "    def __init__(self, s):\n",
    "            self.s = s\n",
    "            \n",
    "    def __coerce__(self, other):\n",
    "            return (int(self.s), other)\n",
    "\n",
    "        \n",
    "coerce(10, bad(\"102\"))  # (10, 102)"
   ]
  },
  {
   "cell_type": "code",
   "execution_count": null,
   "metadata": {
    "collapsed": false
   },
   "outputs": [],
   "source": [
    "''' Complex Number\n",
    "\n",
    "`j` in Python is called imaginary number, same as `i` in the math, `i ^ 2 = -1`.\n",
    "\n",
    "'''\n",
    "\n",
    "print 1j ** 2"
   ]
  },
  {
   "cell_type": "code",
   "execution_count": null,
   "metadata": {
    "collapsed": false
   },
   "outputs": [],
   "source": [
    "''' Context manager\n",
    "\n",
    "The objects which define `__enter__` and `__exit__` can be used in `with` \n",
    "statement, and these two methods will be invoked.\n",
    "\n",
    "'''\n",
    "\n",
    "class CM(object):\n",
    "    \n",
    "    def __enter__(self):\n",
    "        print 'enter'\n",
    "        \n",
    "    def __exit__(self, exc_type, exc_value, traceback):\n",
    "        print 'exit'\n",
    "        \n",
    "with CM() as cm:\n",
    "    print 'content'"
   ]
  },
  {
   "cell_type": "code",
   "execution_count": null,
   "metadata": {
    "collapsed": false
   },
   "outputs": [],
   "source": [
    "''' Decorator\n",
    "\n",
    "A function returns another function.\n",
    "\n",
    "'''\n",
    "\n",
    "def uppercase_decorator(f):\n",
    "    def convert_str_to_uppercase(*args, **kwargs):\n",
    "        return f(*args, **kwargs).upper()\n",
    "    return convert_str_to_uppercase\n",
    "\n",
    "def greeting(name):\n",
    "    return 'Greeting, {}.'.format(name)\n",
    "\n",
    "print uppercase_decorator(greeting1)('Mark')\n",
    "\n",
    "@uppercase_decorator\n",
    "def decorated_greeting(name):\n",
    "    return 'Nice to see you, {}'.format(name)\n",
    "\n",
    "print decorated_greeting('Sam')"
   ]
  },
  {
   "cell_type": "code",
   "execution_count": null,
   "metadata": {
    "collapsed": false
   },
   "outputs": [],
   "source": [
    "''' Descriptor \n",
    "\n",
    "When an object has a descriptor object as attribute, manipulating the descriptor \n",
    "attribute will trigger `__get__`, `__set__` and `__delete__`.\n",
    "\n",
    "'''\n",
    "\n",
    "class DescriptorObj(object):\n",
    "    attr = 'something'\n",
    "\n",
    "    def __get__(self, instance, owner):\n",
    "        print 'there is nothing I can give you'\n",
    "    \n",
    "    def __set__(self, instance, value):\n",
    "        print 'there is nothing I can do for you'\n",
    "  \n",
    "    def __delete__(self, instance):\n",
    "        print 'there is nothing I can delete for you'\n",
    "        \n",
    "class ParentObj(object):\n",
    "    des_obj = DescriptorObj()\n",
    "    \n",
    "p_obj = ParentObj()\n",
    "\n",
    "p_obj.des_obj  # trigger `__get__`\n",
    "p_obj.des_obj = 'haha'  # trigger `__set__`\n",
    "del p_obj.des_obj  # trigger `__delete__`"
   ]
  },
  {
   "cell_type": "code",
   "execution_count": null,
   "metadata": {
    "collapsed": true
   },
   "outputs": [],
   "source": [
    "''' Dictionary View\n",
    "\n",
    "Dynamic view for `dict`, will change when taget `dict` modified.\n",
    "\n",
    "'''\n",
    "\n",
    "d = {\n",
    "    'key1': 'val1',\n",
    "    'key2': 'val2',\n",
    "}\n",
    "\n",
    "# assign to variables\n",
    "keys = d.keys()\n",
    "viewkeys = d.viewkeys()\n",
    "values = d.values()\n",
    "viewvalues = d.viewvalues()\n",
    "items = d.items()\n",
    "viewitems = d.viewitems()\n",
    "\n",
    "# take a look\n",
    "print keys  # ['key2', 'key1']\n",
    "print viewkeys  # dict_keys(['key2', 'key1'])\n",
    "print values  # ['val2', 'val1']\n",
    "print viewvalues  # dict_values(['val2', 'val1'])\n",
    "print items  # [('key2', 'val2'), ('key1', 'val1')]\n",
    "print viewitems  # dict_items([('key2', 'val2'), ('key1', 'val1')])\n",
    "\n",
    "# add new item\n",
    "d['key3'] = 'val3'\n",
    "\n",
    "# print them again\n",
    "print keys  # ['key2', 'key1']\n",
    "print viewkeys  # dict_keys(['key3', 'key2', 'key1'])\n",
    "print values  # ['val2', 'val1']\n",
    "print viewvalues  # dict_values(['val3', 'val2', 'val1'])\n",
    "print items  # [('key2', 'val2'), ('key1', 'val1')]\n",
    "print viewitems  # dict_items([('key3', 'val3'), ('key2', 'val2'), ('key1', 'val1')])\n",
    "\n",
    "# print viewskeys[0]  # TypeError: 'dict_keys' object does not support indexing\n",
    "\n",
    "for key in viewkeys:\n",
    "    print key"
   ]
  },
  {
   "cell_type": "code",
   "execution_count": null,
   "metadata": {
    "collapsed": false
   },
   "outputs": [],
   "source": [
    "''' Docstring '''\n",
    "\n",
    "def test_doc():\n",
    "    ''' Nothing here '''\n",
    "    pass\n",
    "\n",
    "print test_doc.__doc__"
   ]
  },
  {
   "cell_type": "code",
   "execution_count": null,
   "metadata": {
    "collapsed": false
   },
   "outputs": [],
   "source": [
    "''' File object '''\n",
    "\n",
    "from tempfile import TemporaryFile\n",
    "\n",
    "with open('./test.txt', 'w') as f:\n",
    "    f.writelines('This is the first line.')\n",
    "    "
   ]
  },
  {
   "cell_type": "code",
   "execution_count": null,
   "metadata": {
    "collapsed": false
   },
   "outputs": [],
   "source": [
    "''' Floor division / Integer division\n",
    "\n",
    "Floor division is the default in Python2 but not in Python3.\n",
    "\n",
    "'''\n",
    "\n",
    "print 11 / 4  # 2\n",
    "print 11 // 4  # 2\n",
    "print -11 / 4  # -3\n",
    "print -11 // 4  # -3\n",
    "\n",
    "# will coerce to `float` type first\n",
    "print 11 / 4.0\n",
    "print -11 / 4.0"
   ]
  },
  {
   "cell_type": "code",
   "execution_count": null,
   "metadata": {
    "collapsed": false
   },
   "outputs": [],
   "source": [
    "''' `__future__` module\n",
    "\n",
    "Import `__future__` can let users to manipulate some new features.\n",
    "\n",
    "Example:\n",
    "    In Python 2, floor division is the default way as division operation, but it's not in Python 3.\n",
    "\n",
    "'''\n",
    "\n",
    "print 11 / 4  # 2\n",
    "\n",
    "from __future__ import division    \n",
    "print division  # _Feature((2, 2, 0, 'alpha', 2), (3, 0, 0, 'alpha', 0), 8192)\n",
    "                # first added in Python 2.2, becomes default in Python 3.0\n",
    "print 11 / 4  # 2.75\n"
   ]
  },
  {
   "cell_type": "code",
   "execution_count": null,
   "metadata": {
    "collapsed": false
   },
   "outputs": [],
   "source": [
    "''' Generator\n",
    "\n",
    "A function which returns an iterator (yield statement).\n",
    "\n",
    "'''\n",
    "\n",
    "def return_yields():\n",
    "    yield 'first'\n",
    "    yield 'second'\n",
    "    yield 'third'\n",
    "    \n",
    "# generator can be used in for-loop\n",
    "for y in return_yields():\n",
    "    print y\n",
    "    \n",
    "# generator is a object\n",
    "yields_gen = return_yields()\n",
    "print yields_gen\n",
    "print dir(yields_gen)\n",
    "print yields_gen.next()\n",
    "print yields_gen.next()\n",
    "print yields_gen.next()"
   ]
  },
  {
   "cell_type": "code",
   "execution_count": null,
   "metadata": {
    "collapsed": false
   },
   "outputs": [],
   "source": [
    "''' Generator expression\n",
    "\n",
    "An expression that returns an iterator. \n",
    "\n",
    "'''\n",
    "\n",
    "print sum(i * i for i in range(10))  # = (1*1) + (2*2) + (3*3) ... + (9*9) = 285"
   ]
  },
  {
   "cell_type": "code",
   "execution_count": null,
   "metadata": {
    "collapsed": false
   },
   "outputs": [],
   "source": [
    "''' Hashable\n",
    "\n",
    "An object which implements `__hash__` (for generating hash value), `__cmp__` and `__eq__` (for comparing to \n",
    "other hashable objects). Hashable objects can be used as dictionary key and set member because these structures \n",
    "use hash key to identify.\n",
    "\n",
    "'''\n",
    "\n",
    "class CustomHashableObject(object):\n",
    "    _hash_val = 1  # always the same\n",
    "    x = None\n",
    "    \n",
    "    def __init__(self, x):\n",
    "        self.x = x\n",
    "            \n",
    "    def __hash__(self):\n",
    "        # User-defined class has this default method. (return `id(x)`)\n",
    "        return self._hash_val\n",
    "    \n",
    "    def __cmp__(self, other):\n",
    "        # User-defined class has this default method\n",
    "        if self._hash_val < other._hash_val:\n",
    "            return -1\n",
    "        elif self.__hash_val > other._hash_val:\n",
    "            return 1\n",
    "        else:\n",
    "            return 0\n",
    "    \n",
    "    def __eq__(self, other):\n",
    "        # User-defined class doesn't has this default method, so \n",
    "        # all instances are treated as non-equal(except itself).\n",
    "        return self._hash_val == other._hash_val\n",
    "    \n",
    "    \n",
    "# init 2 different hashable object\n",
    "mark_obj = CustomHashableObject('mark')\n",
    "num_obj = CustomHashableObject(123)\n",
    "print mark_obj.x, num_obj.x\n",
    "\n",
    "# `__eq__` shows `mark_obj` and `num_obj` are the same\n",
    "obj_set = set()\n",
    "obj_set.add(num_obj)\n",
    "obj_set.add(mark_obj)  # not working because there's `num_obj` in `obj_set`\n",
    "for obj in obj_set:\n",
    "    print obj.x"
   ]
  },
  {
   "cell_type": "code",
   "execution_count": null,
   "metadata": {
    "collapsed": false
   },
   "outputs": [],
   "source": [
    "''' Immutable '''\n",
    "\n",
    "test_tuple = ('val1', 'val2', 'val3', )\n",
    "\n",
    "test_tuple[2] = 'val4'  # TypeError: 'tuple' object does not support item assignment"
   ]
  },
  {
   "cell_type": "code",
   "execution_count": null,
   "metadata": {
    "collapsed": false
   },
   "outputs": [],
   "source": [
    "''' Iterable / Iterator\n",
    "\n",
    "Iterable means the object can return its member one at a time. Need to implement `__iter__` or `__getitem__`.\n",
    "Iterator is an object representing the stream of data. Repeatly call `next()` will return data in the stream.\n",
    "\n",
    "ref: http://stackoverflow.com/questions/19151/build-a-basic-python-iterator\n",
    "\n",
    "'''\n",
    "class IterableObject(object):\n",
    "\n",
    "    def __iter__(self):\n",
    "        yield 'first'\n",
    "        yield 'second'\n",
    "        yield 'third'\n",
    "    \n",
    "    def __getitem__(self, key):\n",
    "        return range(3)[key]\n",
    "\n",
    "    \n",
    "iter_obj = IterableObject()\n",
    "\n",
    "# pass a iterable object to function `iter` will retun a iterator\n",
    "iterator = iter(iter_obj)\n",
    "print iterator\n",
    "print iterator.next()\n",
    "print iterator.next()\n",
    "print iterator.next()\n",
    "\n",
    "# for statement will automatically use `iter`\n",
    "# the following code block is same as the above one\n",
    "for i in iter_obj:\n",
    "    print i"
   ]
  },
  {
   "cell_type": "code",
   "execution_count": null,
   "metadata": {
    "collapsed": false
   },
   "outputs": [],
   "source": [
    "''' Key function\n",
    "\n",
    "Some methods accept argument which is a callable that returns a value used for the function.\n",
    "\n",
    "'''\n",
    "\n",
    "print sorted(\"This is a test staring from Alice\".split())\n",
    "print sorted(\"This is a test staring from Alice\".split(), key=str.lower)  # convert string list to lowercase first"
   ]
  },
  {
   "cell_type": "code",
   "execution_count": null,
   "metadata": {
    "collapsed": false
   },
   "outputs": [],
   "source": [
    "''' lambda '''\n",
    "\n",
    "test_lambda = lambda x : x.lower()\n",
    "\n",
    "print test_lambda('MARK')"
   ]
  },
  {
   "cell_type": "code",
   "execution_count": null,
   "metadata": {
    "collapsed": false
   },
   "outputs": [],
   "source": [
    "''' List comprehension '''\n",
    "\n",
    "print [i * 2 for i in range(30) if i % 2 == 0]"
   ]
  },
  {
   "cell_type": "code",
   "execution_count": null,
   "metadata": {
    "collapsed": false
   },
   "outputs": [],
   "source": [
    "''' Mapping\n",
    "\n",
    "A container object that supports arbitrary key lookups and implements the methods specified in the \n",
    "Mapping or MutableMapping abstract base classes.\n",
    "\n",
    "Example:\n",
    "    dict, collecions.defaultdict, collections.OrderedDict, collections.Counter\n",
    "    \n",
    "'''\n",
    "\n",
    "from collections import defaultdict, OrderedDict, Counter\n",
    "\n",
    "# dict\n",
    "d = dict(key1='val1', key2='val2')\n",
    "print d\n",
    "print d.setdefault('key3', 'default')  # same as `d.get('key3', 'default'); d['key3'] = 'default'`\n",
    "\n",
    "# defaultdict\n",
    "dd = defaultdict(list)\n",
    "dd['x'].append('first')  # becase there's no `x` in `dd`, the value of `x` will be an empty list\n",
    "dd['x'].append('second')\n",
    "print dd\n",
    "\n",
    "# OrderedDict\n",
    "od = OrderedDict(\n",
    "    [\n",
    "        ('k1', 'v1'),\n",
    "        ('k2', 'v2'),\n",
    "        ('k3', 'v3'),\n",
    "    ]\n",
    ")\n",
    "print od\n",
    "for k, v in od.iteritems():\n",
    "    print k, v\n",
    "print od['k2']\n",
    "# print od[1]  # KeyError, index is not acceptable\n",
    "print od.popitem(last=False)\n",
    "print od\n",
    "\n",
    "# Counter\n",
    "c1 = Counter(['mark', 'lucy', 'sammy', 'mark'])\n",
    "c2 = Counter(mark=3, ryan=1, terry=5)\n",
    "c3 = Counter({'mark': 3, 'lucy': 1, 'sammy': 2})\n",
    "print c1, c2, c3\n",
    "print c2.most_common(1)\n",
    "c3.subtract(c1)\n",
    "print c3"
   ]
  },
  {
   "cell_type": "code",
   "execution_count": null,
   "metadata": {
    "collapsed": false
   },
   "outputs": [],
   "source": [
    "''' Named tuple\n",
    "\n",
    "Can access the elements through indexes or attributes.\n",
    "\n",
    "'''\n",
    "\n",
    "import time \n",
    "\n",
    "lt = time.localtime()\n",
    "print lt\n",
    "print dir(lt)\n",
    "print lt.tm_year  # get `tm_year` whith attribute\n",
    "print lt[0]  # get `tm_year` with index"
   ]
  },
  {
   "cell_type": "code",
   "execution_count": null,
   "metadata": {
    "collapsed": true
   },
   "outputs": [],
   "source": [
    "''' Nested scope '''\n",
    "\n",
    "def test_fun1():\n",
    "    def test_inner():\n",
    "        print 'hello'\n",
    "    test_inner()\n",
    "    \n",
    "test_fun1()\n",
    "test_fun1.test_inner()  # AttributeError: 'function' object has no attribute 'test_inner'"
   ]
  },
  {
   "cell_type": "code",
   "execution_count": null,
   "metadata": {
    "collapsed": false
   },
   "outputs": [],
   "source": [
    "''' Pythonic '''\n",
    "\n",
    "for i in range(len(food)):\n",
    "    print food[i]\n",
    "    \n",
    "for piece in food:\n",
    "    print piece"
   ]
  },
  {
   "cell_type": "code",
   "execution_count": null,
   "metadata": {
    "collapsed": false
   },
   "outputs": [],
   "source": [
    "''' Reference Count\n",
    "\n",
    "The number of references to an object. The result will be one more than expected.\n",
    "\n",
    "'''\n",
    "\n",
    "a = dict()\n",
    "b = a\n",
    "c = b\n",
    "\n",
    "import sys\n",
    "print sys.getrefcount(a)\n",
    "\n",
    "del b\n",
    "print 'b' in locals()\n",
    "print sys.getrefcount(a)"
   ]
  },
  {
   "cell_type": "code",
   "execution_count": null,
   "metadata": {
    "collapsed": false
   },
   "outputs": [],
   "source": [
    "''' __slots__\n",
    "\n",
    "Restrict the attribute to a object.\n",
    "\n",
    "'''\n",
    "\n",
    "class NormalObj(object):\n",
    "    pass\n",
    "\n",
    "\n",
    "nor_obj = NormalObj()\n",
    "nor_obj.name = 'Mark'\n",
    "nor_obj.age = 28\n",
    "nor_obj.gender = 'male'\n",
    "\n",
    "\n",
    "class SlotsObj(object):\n",
    "    __slots__ = ('name', 'age', )\n",
    "    \n",
    "    \n",
    "slots_obj = SlotsObj()\n",
    "slots_obj.name = 'Mark'\n",
    "slots_obj.age = 28\n",
    "slots_obj.gender = 'male'  # AttributeError: 'SlotsObj' object has no attribute 'gender'\n"
   ]
  },
  {
   "cell_type": "code",
   "execution_count": null,
   "metadata": {
    "collapsed": false
   },
   "outputs": [],
   "source": [
    "''' Sequence \n",
    "\n",
    "An iterable which supports efficient element access using integer/key indices.\n",
    "\n",
    "- `seq_obj[x]` is identical with `seq_obj.__getitem__(x)`.\n",
    "- `len(seq_obj)` is identical with `seq_obj.__len__()`.\n",
    "\n",
    "'''\n",
    "\n",
    "# list\n",
    "import string\n",
    "lower_str = string.lowercase\n",
    "string_list = list(lower_str)\n",
    "print string_list\n",
    "\n",
    "# `[integer indice]` and `__getitem__(integer indice)` are identical to list\n",
    "print string_list[10]\n",
    "print string_list.__getitem__(10)\n",
    "\n",
    "# `len(list)` and `list.__len__()` are identical to list\n",
    "print len(string_list)\n",
    "print string_list.__len__()\n",
    "\n",
    "\n",
    "# dict\n",
    "string_dict = {lower_str[i]: lower_str[-(i+1)] for i in range(len(lower_str))}\n",
    "print string_dict\n",
    "\n",
    "# `[key indice]` and `__getitem__(key indice)` are identical to dict\n",
    "print string_dict['c']\n",
    "print string_dict.__getitem__('c')\n",
    "\n",
    "# `len(dict)` and `dict.__len__()` are identical to dict\n",
    "print len(string_dict)\n",
    "print string_dict.__len__()\n",
    "\n",
    "\n",
    "# Custom Objects\n",
    "class NonSequenceObject(object):\n",
    "    pass\n",
    "\n",
    "non_seq_obj = NonSequenceObject()\n",
    "# print non_seq_obj[0]  # TypeError: 'NonSequenceObject' object does not support indexing\n",
    "# print len(non_seq_obj)  # TypeError: object of type 'NonSequenceObject' has no len()\n",
    "\n",
    "\n",
    "class SequenceObject(object):\n",
    "    \n",
    "    def __init__(self, anything):\n",
    "        self.anything = anything\n",
    "        \n",
    "    def __getitem__(self, indice):\n",
    "        return indice\n",
    "\n",
    "    def __len__(self):\n",
    "        return len(self.anything)\n",
    "    \n",
    "    \n",
    "seq_obj = SequenceObject('anything')\n",
    "print seq_obj[10]\n",
    "print seq_obj['mark']\n",
    "print len(seq_obj)"
   ]
  },
  {
   "cell_type": "code",
   "execution_count": null,
   "metadata": {
    "collapsed": false
   },
   "outputs": [],
   "source": [
    "''' Slice \n",
    "\n",
    "Manipulate portion of sequence.\n",
    "\n",
    "'''\n",
    "\n",
    "import string\n",
    "string_list = list(string.lowercase)\n",
    "\n",
    "# get slice from sequence\n",
    "print string_list[1:3]\n",
    "print string_list.__getslice__(1, 3)\n",
    "\n",
    "# get slice with interval from sequence\n",
    "print string_list[:10:3]\n",
    "print map(string_list.__getitem__, (0, 3, 6, 9))\n",
    "\n",
    "# set slice to sequence\n",
    "string_list[1:3] = (1, 2, )\n",
    "string_list.__setslice__(1, 3, ('b', 'c', ))\n",
    "\n",
    "# delete slice from sequence\n",
    "del string_list[:3]\n",
    "string_list.__delslice__(0, 3)"
   ]
  },
  {
   "cell_type": "code",
   "execution_count": null,
   "metadata": {
    "collapsed": false
   },
   "outputs": [],
   "source": [
    "''' Zen of Python '''\n",
    "\n",
    "import this"
   ]
  },
  {
   "cell_type": "code",
   "execution_count": null,
   "metadata": {
    "collapsed": true
   },
   "outputs": [],
   "source": []
  }
 ],
 "metadata": {
  "kernelspec": {
   "display_name": "Python 2",
   "language": "python",
   "name": "python2"
  },
  "language_info": {
   "codemirror_mode": {
    "name": "ipython",
    "version": 2
   },
   "file_extension": ".py",
   "mimetype": "text/x-python",
   "name": "python",
   "nbconvert_exporter": "python",
   "pygments_lexer": "ipython2",
   "version": "2.7.13"
  }
 },
 "nbformat": 4,
 "nbformat_minor": 1
}
